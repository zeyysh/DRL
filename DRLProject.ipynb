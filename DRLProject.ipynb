{
 "cells": [
  {
   "cell_type": "code",
   "id": "initial_id",
   "metadata": {
    "collapsed": true,
    "ExecuteTime": {
     "end_time": "2024-07-11T16:55:51.354540Z",
     "start_time": "2024-07-11T16:55:51.350360Z"
    }
   },
   "source": [
    "import numpy as np\n",
    "import pandas as pd\n",
    "import tensorflow as tf\n",
    "from tensorflow.keras.models import Sequential\n",
    "from tensorflow.keras.layers import LSTM, Dense, Dropout\n",
    "import gymnasium as gym\n",
    "import matplotlib.pyplot as plt\n",
    "from stable_baselines3 import PPO"
   ],
   "outputs": [],
   "execution_count": 56
  },
  {
   "cell_type": "code",
   "source": [
    "import yfinance as yf\n",
    "\n",
    "nvidia_df = yf.download(tickers='NVDA', start='2009-01-01', end='2024-06-01')\n",
    "apple_df = yf.download(tickers='AAPL', start='2009-01-01', end='2024-06-01')\n",
    "microsoft_df = yf.download(tickers='MSFT', start='2009-01-01', end='2024-06-01')\n",
    "google_df = yf.download(tickers='GOOGL', start='2009-01-01', end='2024-06-01')\n",
    "amazon_df = yf.download(tickers='AMZN', start='2009-01-01', end='2024-06-01')"
   ],
   "metadata": {
    "collapsed": false,
    "ExecuteTime": {
     "end_time": "2024-07-11T16:55:51.518749Z",
     "start_time": "2024-07-11T16:55:51.356636Z"
    }
   },
   "id": "4666415046db06ec",
   "outputs": [
    {
     "name": "stderr",
     "output_type": "stream",
     "text": [
      "[*********************100%%**********************]  1 of 1 completed\n",
      "[*********************100%%**********************]  1 of 1 completed\n",
      "[*********************100%%**********************]  1 of 1 completed\n",
      "[*********************100%%**********************]  1 of 1 completed\n",
      "[*********************100%%**********************]  1 of 1 completed\n"
     ]
    }
   ],
   "execution_count": 57
  },
  {
   "cell_type": "code",
   "source": [
    "\n",
    "from stable_baselines3 import PPO\n",
    "from stable_baselines3.common.vec_env import DummyVecEnv\n",
    "\n",
    "class StockTradingEnv(gym.Env):\n",
    "    def __init__(self, df):\n",
    "        super(StockTradingEnv, self).__init__()\n",
    "        self.df = df\n",
    "        self.action_space = gym.spaces.Discrete(3)  # buy, hold, sell\n",
    "        self.observation_space = gym.spaces.Box(low=-np.inf, high=np.inf, shape=(df.shape[1]-1,), dtype=np.float32)\n",
    "        self.reset()\n",
    "\n",
    "    def reset(self):\n",
    "        self.current_step = 0\n",
    "        self.done = False\n",
    "        self.total_profit = 0\n",
    "        self.total_reward = 0\n",
    "        self.stock_owned = 0\n",
    "        self.starting_cash = 10000\n",
    "        self.cash_in_hand = self.starting_cash\n",
    "        return self._next_observation()\n",
    "\n",
    "    def _next_observation(self):\n",
    "        return self.df.iloc[self.current_step, 1:].values\n",
    "\n",
    "    def step(self, action):\n",
    "        self.current_step += 1\n",
    "        reward = 0\n",
    "\n",
    "        if action == 0:  # buy\n",
    "            if self.cash_in_hand >= self.df.iloc[self.current_step, 1]:\n",
    "                self.stock_owned += 1\n",
    "                self.cash_in_hand -= self.df.iloc[self.current_step, 1]\n",
    "        elif action == 2:  # sell\n",
    "            if self.stock_owned > 0:\n",
    "                self.stock_owned -= 1\n",
    "                self.cash_in_hand += self.df.iloc[self.current_step, 1]\n",
    "\n",
    "        self.total_profit = self.cash_in_hand + self.stock_owned * self.df.iloc[self.current_step, 1] - self.starting_cash\n",
    "        reward = self.total_profit\n",
    "        self.total_reward += reward\n",
    "\n",
    "        self.done = self.current_step >= len(self.df) - 1\n",
    "\n",
    "        # Returning 'terminated' and 'truncated' as part of the return values\n",
    "        return self._next_observation(), reward, self.done, {}\n",
    "\n",
    "    def render(self, mode='human'):\n",
    "        print(f'Step: {self.current_step}, Total Profit: {self.total_profit}')\n",
    "\n",
    "# Custom VecEnv Wrapper to handle the four return values\n",
    "class CustomDummyVecEnv(DummyVecEnv):\n",
    "    def step_wait(self):\n",
    "        results = [env.step(self.actions[env_idx]) for env_idx, env in enumerate(self.envs)]\n",
    "        obs, rews, dones, infos = zip(*results)\n",
    "        self.buf_rews[:] = rews\n",
    "        self.buf_dones[:] = dones\n",
    "        self.buf_infos[:] = infos\n",
    "        for env_idx in range(self.num_envs):\n",
    "            if self.buf_dones[env_idx]:\n",
    "                obs[env_idx] = self.envs[env_idx].reset()\n",
    "        self._save_obs(obs)\n",
    "        return self._obs_from_buf(), self.buf_rews, self.buf_dones, [{} for _ in range(self.num_envs)]"
   ],
   "metadata": {
    "collapsed": false,
    "ExecuteTime": {
     "end_time": "2024-07-11T16:55:51.526434Z",
     "start_time": "2024-07-11T16:55:51.520071Z"
    }
   },
   "id": "a8e07f6bcaf11da0",
   "outputs": [],
   "execution_count": 58
  },
  {
   "cell_type": "code",
   "source": [
    "df = nvidia_df\n",
    "df = df.sort_values('Date')\n",
    "df = df.reset_index(drop=True)\n"
   ],
   "metadata": {
    "collapsed": false,
    "ExecuteTime": {
     "end_time": "2024-07-11T16:55:51.529880Z",
     "start_time": "2024-07-11T16:55:51.527311Z"
    }
   },
   "id": "fbbebc8efc3da682",
   "outputs": [],
   "execution_count": 59
  },
  {
   "cell_type": "code",
   "source": [
    "def create_lstm_model(input_shape):\n",
    "    model = Sequential()\n",
    "    model.add(LSTM(128, input_shape=input_shape, return_sequences=True))\n",
    "    model.add(Dropout(0.2))\n",
    "    model.add(LSTM(64))\n",
    "    model.add(Dropout(0.2))\n",
    "    model.add(Dense(32, activation='relu'))\n",
    "    model.add(Dense(3, activation='softmax'))\n",
    "    return model"
   ],
   "metadata": {
    "collapsed": false,
    "ExecuteTime": {
     "end_time": "2024-07-11T16:55:51.533320Z",
     "start_time": "2024-07-11T16:55:51.531214Z"
    }
   },
   "id": "b6c8a41b3b2d3af7",
   "outputs": [],
   "execution_count": 60
  },
  {
   "cell_type": "code",
   "source": [
    "# Initialize the environment\n",
    "env = CustomDummyVecEnv([lambda: StockTradingEnv(df)])\n",
    "model = PPO('MlpPolicy', env, verbose=1)\n",
    "\n",
    "# Define input shape for the LSTM model\n",
    "input_shape = (df.shape[1]-1, 1)\n",
    "lstm_model = create_lstm_model(input_shape)\n",
    "lstm_model.compile(optimizer='adam', loss='mse')\n",
    "\n",
    "# Train the PPO model\n",
    "model.learn(total_timesteps=10000)\n",
    "\n",
    "# Save the trained model\n",
    "model.save('ppo_stock_trading')\n",
    "\n",
    "# Load the trained model for evaluation\n",
    "model = PPO.load('ppo_stock_trading')\n",
    "\n",
    "# Evaluate the model\n",
    "obs = env.reset()\n",
    "for i in range(len(df)):\n",
    "    action, _states = model.predict(obs)\n",
    "    obs, rewards, dones, infos = env.step(action)\n",
    "    env.render()"
   ],
   "metadata": {
    "collapsed": false,
    "ExecuteTime": {
     "end_time": "2024-07-11T16:55:51.744152Z",
     "start_time": "2024-07-11T16:55:51.534140Z"
    }
   },
   "id": "a958eeb71d58b993",
   "outputs": [
    {
     "name": "stdout",
     "output_type": "stream",
     "text": [
      "Using cpu device\n"
     ]
    },
    {
     "ename": "TypeError",
     "evalue": "StockTradingEnv.reset() got an unexpected keyword argument 'seed'",
     "output_type": "error",
     "traceback": [
      "\u001B[0;31m---------------------------------------------------------------------------\u001B[0m",
      "\u001B[0;31mTypeError\u001B[0m                                 Traceback (most recent call last)",
      "Cell \u001B[0;32mIn[61], line 11\u001B[0m\n\u001B[1;32m      8\u001B[0m lstm_model\u001B[38;5;241m.\u001B[39mcompile(optimizer\u001B[38;5;241m=\u001B[39m\u001B[38;5;124m'\u001B[39m\u001B[38;5;124madam\u001B[39m\u001B[38;5;124m'\u001B[39m, loss\u001B[38;5;241m=\u001B[39m\u001B[38;5;124m'\u001B[39m\u001B[38;5;124mmse\u001B[39m\u001B[38;5;124m'\u001B[39m)\n\u001B[1;32m     10\u001B[0m \u001B[38;5;66;03m# Train the PPO model\u001B[39;00m\n\u001B[0;32m---> 11\u001B[0m model\u001B[38;5;241m.\u001B[39mlearn(total_timesteps\u001B[38;5;241m=\u001B[39m\u001B[38;5;241m10000\u001B[39m)\n\u001B[1;32m     13\u001B[0m \u001B[38;5;66;03m# Save the trained model\u001B[39;00m\n\u001B[1;32m     14\u001B[0m model\u001B[38;5;241m.\u001B[39msave(\u001B[38;5;124m'\u001B[39m\u001B[38;5;124mppo_stock_trading\u001B[39m\u001B[38;5;124m'\u001B[39m)\n",
      "File \u001B[0;32m~/anaconda3/lib/python3.11/site-packages/stable_baselines3/ppo/ppo.py:315\u001B[0m, in \u001B[0;36mPPO.learn\u001B[0;34m(self, total_timesteps, callback, log_interval, tb_log_name, reset_num_timesteps, progress_bar)\u001B[0m\n\u001B[1;32m    306\u001B[0m \u001B[38;5;28;01mdef\u001B[39;00m \u001B[38;5;21mlearn\u001B[39m(\n\u001B[1;32m    307\u001B[0m     \u001B[38;5;28mself\u001B[39m: SelfPPO,\n\u001B[1;32m    308\u001B[0m     total_timesteps: \u001B[38;5;28mint\u001B[39m,\n\u001B[0;32m   (...)\u001B[0m\n\u001B[1;32m    313\u001B[0m     progress_bar: \u001B[38;5;28mbool\u001B[39m \u001B[38;5;241m=\u001B[39m \u001B[38;5;28;01mFalse\u001B[39;00m,\n\u001B[1;32m    314\u001B[0m ) \u001B[38;5;241m-\u001B[39m\u001B[38;5;241m>\u001B[39m SelfPPO:\n\u001B[0;32m--> 315\u001B[0m     \u001B[38;5;28;01mreturn\u001B[39;00m \u001B[38;5;28msuper\u001B[39m()\u001B[38;5;241m.\u001B[39mlearn(\n\u001B[1;32m    316\u001B[0m         total_timesteps\u001B[38;5;241m=\u001B[39mtotal_timesteps,\n\u001B[1;32m    317\u001B[0m         callback\u001B[38;5;241m=\u001B[39mcallback,\n\u001B[1;32m    318\u001B[0m         log_interval\u001B[38;5;241m=\u001B[39mlog_interval,\n\u001B[1;32m    319\u001B[0m         tb_log_name\u001B[38;5;241m=\u001B[39mtb_log_name,\n\u001B[1;32m    320\u001B[0m         reset_num_timesteps\u001B[38;5;241m=\u001B[39mreset_num_timesteps,\n\u001B[1;32m    321\u001B[0m         progress_bar\u001B[38;5;241m=\u001B[39mprogress_bar,\n\u001B[1;32m    322\u001B[0m     )\n",
      "File \u001B[0;32m~/anaconda3/lib/python3.11/site-packages/stable_baselines3/common/on_policy_algorithm.py:287\u001B[0m, in \u001B[0;36mOnPolicyAlgorithm.learn\u001B[0;34m(self, total_timesteps, callback, log_interval, tb_log_name, reset_num_timesteps, progress_bar)\u001B[0m\n\u001B[1;32m    276\u001B[0m \u001B[38;5;28;01mdef\u001B[39;00m \u001B[38;5;21mlearn\u001B[39m(\n\u001B[1;32m    277\u001B[0m     \u001B[38;5;28mself\u001B[39m: SelfOnPolicyAlgorithm,\n\u001B[1;32m    278\u001B[0m     total_timesteps: \u001B[38;5;28mint\u001B[39m,\n\u001B[0;32m   (...)\u001B[0m\n\u001B[1;32m    283\u001B[0m     progress_bar: \u001B[38;5;28mbool\u001B[39m \u001B[38;5;241m=\u001B[39m \u001B[38;5;28;01mFalse\u001B[39;00m,\n\u001B[1;32m    284\u001B[0m ) \u001B[38;5;241m-\u001B[39m\u001B[38;5;241m>\u001B[39m SelfOnPolicyAlgorithm:\n\u001B[1;32m    285\u001B[0m     iteration \u001B[38;5;241m=\u001B[39m \u001B[38;5;241m0\u001B[39m\n\u001B[0;32m--> 287\u001B[0m     total_timesteps, callback \u001B[38;5;241m=\u001B[39m \u001B[38;5;28mself\u001B[39m\u001B[38;5;241m.\u001B[39m_setup_learn(\n\u001B[1;32m    288\u001B[0m         total_timesteps,\n\u001B[1;32m    289\u001B[0m         callback,\n\u001B[1;32m    290\u001B[0m         reset_num_timesteps,\n\u001B[1;32m    291\u001B[0m         tb_log_name,\n\u001B[1;32m    292\u001B[0m         progress_bar,\n\u001B[1;32m    293\u001B[0m     )\n\u001B[1;32m    295\u001B[0m     callback\u001B[38;5;241m.\u001B[39mon_training_start(\u001B[38;5;28mlocals\u001B[39m(), \u001B[38;5;28mglobals\u001B[39m())\n\u001B[1;32m    297\u001B[0m     \u001B[38;5;28;01massert\u001B[39;00m \u001B[38;5;28mself\u001B[39m\u001B[38;5;241m.\u001B[39menv \u001B[38;5;129;01mis\u001B[39;00m \u001B[38;5;129;01mnot\u001B[39;00m \u001B[38;5;28;01mNone\u001B[39;00m\n",
      "File \u001B[0;32m~/anaconda3/lib/python3.11/site-packages/stable_baselines3/common/base_class.py:423\u001B[0m, in \u001B[0;36mBaseAlgorithm._setup_learn\u001B[0;34m(self, total_timesteps, callback, reset_num_timesteps, tb_log_name, progress_bar)\u001B[0m\n\u001B[1;32m    421\u001B[0m \u001B[38;5;28;01mif\u001B[39;00m reset_num_timesteps \u001B[38;5;129;01mor\u001B[39;00m \u001B[38;5;28mself\u001B[39m\u001B[38;5;241m.\u001B[39m_last_obs \u001B[38;5;129;01mis\u001B[39;00m \u001B[38;5;28;01mNone\u001B[39;00m:\n\u001B[1;32m    422\u001B[0m     \u001B[38;5;28;01massert\u001B[39;00m \u001B[38;5;28mself\u001B[39m\u001B[38;5;241m.\u001B[39menv \u001B[38;5;129;01mis\u001B[39;00m \u001B[38;5;129;01mnot\u001B[39;00m \u001B[38;5;28;01mNone\u001B[39;00m\n\u001B[0;32m--> 423\u001B[0m     \u001B[38;5;28mself\u001B[39m\u001B[38;5;241m.\u001B[39m_last_obs \u001B[38;5;241m=\u001B[39m \u001B[38;5;28mself\u001B[39m\u001B[38;5;241m.\u001B[39menv\u001B[38;5;241m.\u001B[39mreset()  \u001B[38;5;66;03m# type: ignore[assignment]\u001B[39;00m\n\u001B[1;32m    424\u001B[0m     \u001B[38;5;28mself\u001B[39m\u001B[38;5;241m.\u001B[39m_last_episode_starts \u001B[38;5;241m=\u001B[39m np\u001B[38;5;241m.\u001B[39mones((\u001B[38;5;28mself\u001B[39m\u001B[38;5;241m.\u001B[39menv\u001B[38;5;241m.\u001B[39mnum_envs,), dtype\u001B[38;5;241m=\u001B[39m\u001B[38;5;28mbool\u001B[39m)\n\u001B[1;32m    425\u001B[0m     \u001B[38;5;66;03m# Retrieve unnormalized observation for saving into the buffer\u001B[39;00m\n",
      "File \u001B[0;32m~/anaconda3/lib/python3.11/site-packages/stable_baselines3/common/vec_env/dummy_vec_env.py:77\u001B[0m, in \u001B[0;36mDummyVecEnv.reset\u001B[0;34m(self)\u001B[0m\n\u001B[1;32m     75\u001B[0m \u001B[38;5;28;01mfor\u001B[39;00m env_idx \u001B[38;5;129;01min\u001B[39;00m \u001B[38;5;28mrange\u001B[39m(\u001B[38;5;28mself\u001B[39m\u001B[38;5;241m.\u001B[39mnum_envs):\n\u001B[1;32m     76\u001B[0m     maybe_options \u001B[38;5;241m=\u001B[39m {\u001B[38;5;124m\"\u001B[39m\u001B[38;5;124moptions\u001B[39m\u001B[38;5;124m\"\u001B[39m: \u001B[38;5;28mself\u001B[39m\u001B[38;5;241m.\u001B[39m_options[env_idx]} \u001B[38;5;28;01mif\u001B[39;00m \u001B[38;5;28mself\u001B[39m\u001B[38;5;241m.\u001B[39m_options[env_idx] \u001B[38;5;28;01melse\u001B[39;00m {}\n\u001B[0;32m---> 77\u001B[0m     obs, \u001B[38;5;28mself\u001B[39m\u001B[38;5;241m.\u001B[39mreset_infos[env_idx] \u001B[38;5;241m=\u001B[39m \u001B[38;5;28mself\u001B[39m\u001B[38;5;241m.\u001B[39menvs[env_idx]\u001B[38;5;241m.\u001B[39mreset(seed\u001B[38;5;241m=\u001B[39m\u001B[38;5;28mself\u001B[39m\u001B[38;5;241m.\u001B[39m_seeds[env_idx], \u001B[38;5;241m*\u001B[39m\u001B[38;5;241m*\u001B[39mmaybe_options)\n\u001B[1;32m     78\u001B[0m     \u001B[38;5;28mself\u001B[39m\u001B[38;5;241m.\u001B[39m_save_obs(env_idx, obs)\n\u001B[1;32m     79\u001B[0m \u001B[38;5;66;03m# Seeds and options are only used once\u001B[39;00m\n",
      "\u001B[0;31mTypeError\u001B[0m: StockTradingEnv.reset() got an unexpected keyword argument 'seed'"
     ]
    }
   ],
   "execution_count": 61
  },
  {
   "cell_type": "code",
   "source": [
    "plt.figure(figsize=(12, 6))\n",
    "plt.plot(df['Date'], df['Close'], label='Stock Price')\n",
    "# Assuming total_profit was recorded during the run\n",
    "plt.plot(df['Date'], [env.total_profit]*len(df), label='Total Profit')\n",
    "plt.xlabel('Date')\n",
    "plt.ylabel('Value')\n",
    "plt.legend()\n",
    "plt.show()"
   ],
   "metadata": {
    "collapsed": false
   },
   "id": "12d96c4f0267d1c6",
   "outputs": [],
   "execution_count": null
  },
  {
   "cell_type": "code",
   "source": [
    "# Placeholder values for performance metrics\n",
    "baseline_buy_and_hold = 0\n",
    "baseline_ppo_mlp = 0\n",
    "baseline_lstm = 0\n",
    "clstm_ppo_returns = 0\n",
    "\n",
    "performance_metrics = {\n",
    "    'Model': ['Buy and Hold', 'PPO-MLP', 'LSTM', 'CLSTM-PPO'],\n",
    "    'Cumulative Returns': [baseline_buy_and_hold, baseline_ppo_mlp, baseline_lstm, clstm_ppo_returns],\n",
    "    'Max Earning Rate': [baseline_buy_and_hold, baseline_ppo_mlp, baseline_lstm, clstm_ppo_returns],\n",
    "    'Average Profitability per Trade': [baseline_buy_and_hold, baseline_ppo_mlp, baseline_lstm, clstm_ppo_returns]\n",
    "}\n",
    "\n",
    "performance_df = pd.DataFrame(performance_metrics)\n",
    "print(performance_df)"
   ],
   "metadata": {
    "collapsed": false
   },
   "id": "d6df99d1b693d97a",
   "outputs": [],
   "execution_count": null
  }
 ],
 "metadata": {
  "kernelspec": {
   "display_name": "Python 3",
   "language": "python",
   "name": "python3"
  },
  "language_info": {
   "codemirror_mode": {
    "name": "ipython",
    "version": 2
   },
   "file_extension": ".py",
   "mimetype": "text/x-python",
   "name": "python",
   "nbconvert_exporter": "python",
   "pygments_lexer": "ipython2",
   "version": "2.7.6"
  }
 },
 "nbformat": 4,
 "nbformat_minor": 5
}
